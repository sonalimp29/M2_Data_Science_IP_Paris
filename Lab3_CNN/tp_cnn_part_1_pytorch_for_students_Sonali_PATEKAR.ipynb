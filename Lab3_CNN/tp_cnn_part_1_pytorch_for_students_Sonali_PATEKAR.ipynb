{
 "cells": [
  {
   "cell_type": "markdown",
   "metadata": {
    "id": "Es_iHEzxW190"
   },
   "source": [
    "# TP Coding Convolutional Neural Networks in tensorflow and keras\n",
    "\n",
    "For any remark or suggestion, please feel free to contact me at:\n",
    "\n",
    "- alasdair.newson@telecom-paris.fr\n",
    "\n",
    "### Objective:\n",
    "\n",
    "We want to implement a Convolutional Neural Network (CNN) for image recognition. For this we will use two well-known datasets, the first simpler and the second more complicated :\n",
    "\n",
    "- MNIST (images of digits)\n",
    "- CIFAR-10 dataset https://www.cs.toronto.edu/~kriz/cifar.html.\n",
    "\n",
    "The CIFAR-10 dataset consists of 60000 32x32 colour images in 10 classes, with 6000 images per class. There are 50000 training images and 10000 test images.\n",
    "\n",
    "We will first code the simple ConvNet described below using the Pytorch environment : https://pytorch.org/.\n",
    "\n",
    "- The input of the CNN is a set of (3,m,n) image tensors (m and n depend on the dataset).\n",
    "- We apply \n",
    "    - a Convolutional layer of 32 filters of shape (3,3), with stride (1,1) and padding='same' (i.e. we apply zero-padding)\n",
    "    - additive biases\n",
    "    - a ReLu activation function\n",
    "    - a Convolutional layer of 32 filters of shape (3,3), with stride (1,1) and padding='same' (i.e. we apply zero-padding)\n",
    "    - additive biases\n",
    "    - a ReLu activation function\n",
    "    - a Max Pooling Layer of shape (2,2) and stride (2,2) (i.e. we reduce by two the size in each dimension)\n",
    "    - We then Flatten the data (reduce them to a vector in order to be able to apply a Fully-Connected layer to it)\n",
    "    - A softmax activation function which outputs are the $P(y_c | X)$ (multi-class problem)\n",
    "\n",
    "\n",
    "<IMG SRC='https://perso.telecom-paristech.fr/anewson/doc/ima_205/images/TP_ima_CNN.png'>\n",
    "    \n",
    "You should use the \"SAME\" border conditions.\n",
    "    \n",
    "### Your task:\n",
    "You need to add the missing parts in the code (parts between # --- START CODE HERE and # --- END CODE HERE)"
   ]
  },
  {
   "cell_type": "markdown",
   "metadata": {
    "id": "Cgyu2GBVW192"
   },
   "source": [
    "# Load packages"
   ]
  },
  {
   "cell_type": "code",
   "execution_count": 23,
   "metadata": {
    "id": "1Qj5KY79W192"
   },
   "outputs": [],
   "source": [
    "%matplotlib inline\n",
    "import matplotlib.pyplot as plt\n",
    "import numpy as np\n",
    "\n",
    "import torch\n",
    "import torch.nn as nn\n",
    "import torch.nn.functional as F\n",
    "import torch.optim as optim\n",
    "import torchvision.datasets as datasets\n",
    "import torchvision.transforms as transforms"
   ]
  },
  {
   "cell_type": "markdown",
   "metadata": {
    "id": "OHJ17JDiliHA"
   },
   "source": [
    "### CNN model in Pytorch\n",
    "\n",
    "There are several ways to write a CNN model in pytorch. In this lab, you will be using the _Sequential_ class of pytorch (similarly to Tensorflow). We will see the syntax further on.\n",
    "\n"
   ]
  },
  {
   "cell_type": "markdown",
   "metadata": {
    "id": "Q_S76Wi_W199"
   },
   "source": [
    "## Import data\n",
    "\n",
    "We first import MNIST dataset. We use the ```torch.utils.data.DataLoader``` function of Pytorch to easily iterate over mini-batches of data."
   ]
  },
  {
   "cell_type": "code",
   "execution_count": 24,
   "metadata": {
    "colab": {
     "base_uri": "https://localhost:8080/"
    },
    "id": "BrYw9LK9W19-",
    "outputId": "d0870efa-b4b8-418c-ca46-79fa1c175401"
   },
   "outputs": [
    {
     "name": "stdout",
     "output_type": "stream",
     "text": [
      "Dataset MNIST\n",
      "    Number of datapoints: 60000\n",
      "    Root location: ./data\n",
      "    Split: Train\n",
      "    StandardTransform\n",
      "Transform: Compose(\n",
      "               ToTensor()\n",
      "           )\n"
     ]
    }
   ],
   "source": [
    "# convert input to Pytorch tensors\n",
    "input_transform=transforms.Compose( [transforms.ToTensor()])\n",
    "# extract mnist data\n",
    "mnist_trainset = datasets.MNIST(root='./data',train=True,download=True,transform=input_transform)\n",
    "print(mnist_trainset)\n",
    "\n",
    "#create data loader with smaller dataset size\n",
    "max_mnist_size = 1000\n",
    "mnist_trainset_reduced = torch.utils.data.random_split(mnist_trainset, [max_mnist_size, len(mnist_trainset)-max_mnist_size])[0] \n",
    "mnist_train_loader = torch.utils.data.DataLoader(mnist_trainset_reduced, batch_size=256, shuffle=True)\n",
    "\n",
    "# download test dataset\n",
    "mnist_testset = datasets.MNIST(root='./data',train=False,download=True,transform=input_transform)\n",
    "mnist_test_loader = torch.utils.data.DataLoader(mnist_testset, batch_size=256, shuffle=True)\n",
    "\n",
    "# extract the actual data and labels\n",
    "X_train = torch.unsqueeze(mnist_trainset.data,axis=1)[0:max_mnist_size]/255.0\n",
    "Y_train = mnist_trainset.targets[0:max_mnist_size]\n",
    "X_test = torch.unsqueeze(mnist_testset.data,axis=1)/255.0\n",
    "Y_test = mnist_testset.targets\n"
   ]
  },
  {
   "cell_type": "markdown",
   "metadata": {
    "id": "Ss6fBjWrAS4U"
   },
   "source": [
    "### Exploring the data\n",
    "\n",
    "The mnist data is downloaded into ```mnist_trainset```. We can explore the dataset manually, although when we will train it, we will use the ```DataLoader``` of Pytorch. ```torch.utils.data.DataLoader``` is a useful function to extract batches of data from a dataset, applying the transformations which we have specified (conversion to Pytorch tensor, normalisation etc).\n",
    "\n",
    "The images are contained in a sub-structure of ```mnist_trainset``` called ```data```. The labels are contained in another sub-structure of ```mnist_trainset``` called ```targets```. Note that these are kept in their native format (the transformations are not applied to them), so to use them we have to apply the transformation manually, as above.\n",
    "\n",
    "__NOTE__ In general, if you want to find out what a structure contains, use the command ```dir()```, this will give you a list of the sub-structures."
   ]
  },
  {
   "cell_type": "code",
   "execution_count": 25,
   "metadata": {
    "colab": {
     "base_uri": "https://localhost:8080/"
    },
    "id": "rMqnFhbH9bcq",
    "outputId": "85aacd8a-4b8b-4c79-847c-ecd9f034783d"
   },
   "outputs": [
    {
     "name": "stdout",
     "output_type": "stream",
     "text": [
      "['__add__', '__class__', '__class_getitem__', '__delattr__', '__dict__', '__dir__', '__doc__', '__eq__', '__format__', '__ge__', '__getattribute__', '__getitem__', '__gt__', '__hash__', '__init__', '__init_subclass__', '__le__', '__len__', '__lt__', '__module__', '__ne__', '__new__', '__orig_bases__', '__parameters__', '__reduce__', '__reduce_ex__', '__repr__', '__setattr__', '__sizeof__', '__slots__', '__str__', '__subclasshook__', '__weakref__', '_check_exists', '_check_legacy_exist', '_format_transform_repr', '_load_data', '_load_legacy_data', '_repr_indent', 'class_to_idx', 'classes', 'data', 'download', 'extra_repr', 'mirrors', 'processed_folder', 'raw_folder', 'resources', 'root', 'target_transform', 'targets', 'test_data', 'test_file', 'test_labels', 'train', 'train_data', 'train_labels', 'training_file', 'transform', 'transforms']\n",
      "Size of training data :  torch.Size([60000, 28, 28])\n",
      "Size of training labels :  torch.Size([60000])\n"
     ]
    }
   ],
   "source": [
    "print(dir(mnist_trainset))\n",
    "\n",
    "print(\"Size of training data : \", mnist_trainset.data.shape)\n",
    "print(\"Size of training labels : \", mnist_trainset.targets.shape)\n"
   ]
  },
  {
   "cell_type": "markdown",
   "metadata": {
    "id": "MnTkYmu-W1-E"
   },
   "source": [
    "The mnist dataset has 10 classes. These are the following :"
   ]
  },
  {
   "cell_type": "code",
   "execution_count": 26,
   "metadata": {
    "id": "kvJ7McU7W1-F"
   },
   "outputs": [],
   "source": [
    "mnist_list = [ '0', '1','2','3','4','5','6','7','8','9']"
   ]
  },
  {
   "cell_type": "markdown",
   "metadata": {
    "id": "6f_7d1NnW1-L"
   },
   "source": [
    "### Display some of the images"
   ]
  },
  {
   "cell_type": "code",
   "execution_count": 27,
   "metadata": {
    "colab": {
     "base_uri": "https://localhost:8080/",
     "height": 338
    },
    "id": "9OcnfCwbW1-M",
    "outputId": "eb9e1ddd-c549-4a93-d9da-7c1d74fc56f4"
   },
   "outputs": [
    {
     "data": {
      "image/png": "[encoded data removed]",
      "text/plain": [
       "<Figure size 720x432 with 10 Axes>"
      ]
     },
     "metadata": {
      "needs_background": "light"
     },
     "output_type": "display_data"
    }
   ],
   "source": [
    "plt.figure(figsize=(10, 6))\n",
    "for idx in range(0,10):\n",
    "    plt.subplot(2, 5, idx+1)\n",
    "    rand_ind = np.random.randint(0,mnist_trainset.data.shape[0])\n",
    "    plt.imshow(mnist_trainset.data[rand_ind,:,:],cmap='gray')\n",
    "    plt.title(mnist_list[int(mnist_trainset.targets[rand_ind])])"
   ]
  },
  {
   "cell_type": "markdown",
   "metadata": {
    "id": "YzRfY8QTBIX-"
   },
   "source": [
    "## Defining the model for MNIST\n",
    "\n",
    "We will now define the simple CNN described above, for use with MNIST. The input of the CNN is a set of (28,28,1) image tensors. We apply the following layers:\n",
    "\n",
    "    - a Convolutional layer of 32 filters of shape (3,3), with stride (1,1) and padding='same'\n",
    "    - a ReLu activation function\n",
    "    \n",
    "    - a Convolutional layer of 32 filters of shape (3,3), with stride (1,1) and padding='same'\n",
    "    - a ReLu activation function\n",
    "    - a Max Pooling Layer of shape (2,2) and stride (2,2) (i.e. we reduce by two the size in each dimension)\n",
    "    \n",
    "    - We then Flatten the data: reduce them to a vector in order to be able to apply a Fully-Connected layer to it\n",
    "    - Dense (fully connected) layer. Note, you will have to determine the input size, that is to say the number of elements after the last Max Pooling layer.\n",
    "\n",
    "__VERY IMPORTANT NOTE !!!__\n",
    "\n",
    "Pytorch carries out the softmax which we would expect at the end of our network automatically, so there is no need to add it. Nevertheless, you must understand that the output is a vector which is _not_ normalised to be a probability distributuion. This will be important later on.\n",
    "\n",
    "Now, we define the following hyper-parameters of the model :"
   ]
  },
  {
   "cell_type": "code",
   "execution_count": 28,
   "metadata": {
    "id": "3T9d8TYFBONz"
   },
   "outputs": [],
   "source": [
    "learning_rate = 0.01\n",
    "n_epochs = 10\n",
    "batch_size = 64\n",
    "nb_classes = int(mnist_trainset.targets.max()+1)\n",
    "\n",
    "# number of convolutional filters to use\n",
    "nb_filters = 32\n",
    "# convolution kernel size\n",
    "kernel_size = (3, 3)\n",
    "# size of pooling area for max pooling\n",
    "pool_size = (2, 2)\n",
    "\n",
    "# --- Size of the successive layers\n",
    "n_h_0 = 1 #greyscale input images\n",
    "n_h_1 = nb_filters\n",
    "n_h_2 = nb_filters"
   ]
  },
  {
   "cell_type": "markdown",
   "metadata": {
    "id": "5MOihxZ-W1-W"
   },
   "source": [
    "# 1. Model 1 : defining a CNN with the Sequential API of Pytorch for MNIST\n",
    "\n",
    "We are now going to create the CNN with Pytorch.\n",
    "\n",
    "The Sequential approach is quite similar to that of Tensorflow. To define a model, just write:\n",
    "\n",
    "```my_model = torch.nn.Sequential( first_layer, second_layer, ...)```\n",
    "\n",
    "Each layer must be a function imported from the Pytorch. You can use the following functions:\n",
    "\n",
    "- ```torch.nn.Conv2d()```\n",
    "- ```torch.nn.ReLU()```\n",
    "- ```torch.nn.MaxPool2d()```\n",
    "- ```torch.nn.Flatten()```\n",
    "- ```torch.nn.Linear()```\n",
    "\n",
    "Look at the documentation online to find the correct parameters. For example:\n",
    "\n",
    "- https://pytorch.org/docs/stable/generated/torch.nn.Conv2d.html\n"
   ]
  },
  {
   "cell_type": "code",
   "execution_count": 29,
   "metadata": {
    "id": "npx-4C1SW1-X"
   },
   "outputs": [],
   "source": [
    "# BEGIN STUDENT CODE\n",
    "mnist_model = torch.nn.Sequential(torch.nn.Conv2d(n_h_0 , n_h_1, stride=(1, 1), kernel_size = kernel_size, padding = 'same'),\n",
    "                                  torch.nn.ReLU(),\n",
    "                                  torch.nn.Conv2d(n_h_1 , n_h_2, stride=(1, 1),kernel_size = kernel_size, padding = 'same'),\n",
    "                                  torch.nn.ReLU() ,\n",
    "                                  torch.nn.MaxPool2d(kernel_size=pool_size) ,\n",
    "                                  torch.nn.Flatten() ,\n",
    "                                  torch.nn.Linear(14*14*32, nb_classes))\n",
    "# END STUDENT CODE"
   ]
  },
  {
   "cell_type": "markdown",
   "metadata": {
    "id": "7FJS2SGeEwHF"
   },
   "source": [
    "### Define loss function and optimiser\n",
    "\n",
    "Pytorch provides an easy way to define the loss criterion to optimise. The syntax is (considering that the Adam optimiser is used):\n",
    "\n",
    "- ```criterion = torch.nn.BCELoss()``` or ```criterion = torch.nn.CrossEntropyLoss()```, etc., depending on your problem.\n",
    "- ```optimizer = torch.optim.Adam(mnist_model.parameters(), lr=learning_rate)```\n",
    "\n",
    "Fill in the following code, choosing the correct criterion to optimise."
   ]
  },
  {
   "cell_type": "code",
   "execution_count": 30,
   "metadata": {
    "id": "AK1pxqFCE090"
   },
   "outputs": [],
   "source": [
    "# BEGIN STUDENT CODE \n",
    "criterion = torch.nn.CrossEntropyLoss()\n",
    "optimizer = torch.optim.Adam(mnist_model.parameters(), lr=learning_rate)\n",
    "# END STUDENT CODE"
   ]
  },
  {
   "cell_type": "markdown",
   "metadata": {
    "id": "42zy2XwsNfTQ"
   },
   "source": [
    "### CNN prediction conversion\n",
    "\n",
    "We recall here that the output of the classification CNN in Pytorch is a vector which is __NOT__ normalised to be a probability distribution. Therefore, for the purposes of finding the prediction of the CNN, we create a function which first converts an input vector to a probability distribution, and then determines the most likely class for each vector. The output should be, for each vector, an integer between 0 and (number of classes) $-1$.\n",
    "\n",
    "The inputs to this function will be Pytorch tensors, so you can use the following Pytorch functions on them :\n",
    "\n",
    "- ```torch.nn.Softmax()```\n",
    "- ```torch.argmax()```\n",
    "\n",
    "Create this function now."
   ]
  },
  {
   "cell_type": "code",
   "execution_count": 31,
   "metadata": {
    "id": "TqCPink-N1LB"
   },
   "outputs": [],
   "source": [
    "def vector_to_class(x):\n",
    "  # BEGIN STUDENT CODE\n",
    "  torch.nn.Softmax(x)\n",
    "  y = torch.argmax(x,axis = 1)\n",
    "  # END STUDENT CODE\n",
    "  return y"
   ]
  },
  {
   "cell_type": "markdown",
   "metadata": {
    "id": "sYzRpoTgGhpG"
   },
   "source": [
    "### Accuracy\n",
    "\n",
    "Now, define a function which calcualtes the accuracy of the output of the neural network, with respect to the input labels. We consider that the input is a vector of class numbers (the final prediction of the CNN)."
   ]
  },
  {
   "cell_type": "code",
   "execution_count": 32,
   "metadata": {
    "id": "f4V5LKDhGsQT"
   },
   "outputs": [],
   "source": [
    "def cnn_accuracy(predict,labels):\n",
    "  # BEGIN STUDENT CODE\n",
    "  total_size=np.array(predict).size\n",
    "  accuracy = np.sum(np.array(predict)==np.array(labels))/total_size\n",
    "\n",
    "  # END STUDENT CODE\n",
    "  return accuracy"
   ]
  },
  {
   "cell_type": "markdown",
   "metadata": {
    "id": "ljHi0tfiW1-h"
   },
   "source": [
    "## Training the model\n",
    "\n",
    "Now, we carry out the actual training of the model."
   ]
  },
  {
   "cell_type": "code",
   "execution_count": 33,
   "metadata": {
    "colab": {
     "base_uri": "https://localhost:8080/"
    },
    "id": "HVe9ZWAdW1-h",
    "outputId": "576591f1-0187-4a93-9dcc-1ad9c7475123"
   },
   "outputs": [
    {
     "name": "stdout",
     "output_type": "stream",
     "text": [
      "Epoch:0 Train Loss:0.0096\n",
      "Accuracy:0.5043\n",
      "Epoch:1 Train Loss:0.0073\n",
      "Accuracy:0.5647\n",
      "Epoch:2 Train Loss:0.0030\n",
      "Accuracy:0.7672\n",
      "Epoch:3 Train Loss:0.0019\n",
      "Accuracy:0.8405\n",
      "Epoch:4 Train Loss:0.0019\n",
      "Accuracy:0.8621\n",
      "Epoch:5 Train Loss:0.0011\n",
      "Accuracy:0.9138\n",
      "Epoch:6 Train Loss:0.0011\n",
      "Accuracy:0.9181\n",
      "Epoch:7 Train Loss:0.0008\n",
      "Accuracy:0.9353\n",
      "Epoch:8 Train Loss:0.0005\n",
      "Accuracy:0.9698\n",
      "Epoch:9 Train Loss:0.0001\n",
      "Accuracy:1.0000\n"
     ]
    }
   ],
   "source": [
    "\n",
    "train_losses=[]\n",
    "valid_losses=[]\n",
    "\n",
    "for epoch in range(0,n_epochs):\n",
    "  train_loss=0.0\n",
    "\n",
    "  for batch_idx, (imgs, labels) in enumerate(mnist_train_loader):\n",
    "\n",
    "    # set the gradients back to 0\n",
    "    optimizer.zero_grad()\n",
    "    predict=mnist_model(imgs) # FILL IN STUDENT\n",
    "    # apply loss function\n",
    "    loss=criterion(predict,labels)\n",
    "    # backpropagation\n",
    "    loss.backward()\n",
    "    optimizer.step()\n",
    "    train_loss=loss.item()\n",
    "  print('Epoch:{} Train Loss:{:.4f}'.format(epoch,train_loss/imgs.shape[0]))\n",
    "  # calculate accuracy\n",
    "\n",
    "  print('Accuracy:{:.4f}'.format(cnn_accuracy(vector_to_class(predict),labels)))"
   ]
  },
  {
   "cell_type": "code",
   "execution_count": 34,
   "metadata": {
    "colab": {
     "base_uri": "https://localhost:8080/"
    },
    "id": "rOsF40hkEqx1",
    "outputId": "f59c2260-b686-4dff-fbeb-7bd1d9a795b1"
   },
   "outputs": [
    {
     "name": "stdout",
     "output_type": "stream",
     "text": [
      "Train Accuracy: 0.896\n",
      "Test Accuracy: 0.9031\n"
     ]
    }
   ],
   "source": [
    "\n",
    "# Calculate accuracy on the training set and the test set\n",
    "\n",
    "# BEGIN FILL IN STUDENT (use X_train, Y_train, X_test, Y_test)\n",
    "predict_train = mnist_model(X_train)\n",
    "predict_test =  mnist_model(X_test)\n",
    "\n",
    "\n",
    "train_accuracy = cnn_accuracy(vector_to_class(predict_train),Y_train)\n",
    "test_accuracy = cnn_accuracy(vector_to_class(predict_test),Y_test)\n",
    "# END FILL IN STUDENT\n",
    "print(\"Train Accuracy:\", train_accuracy)\n",
    "print(\"Test Accuracy:\", test_accuracy)\n",
    "\n",
    "\n",
    "    "
   ]
  },
  {
   "cell_type": "code",
   "execution_count": 35,
   "metadata": {
    "colab": {
     "base_uri": "https://localhost:8080/",
     "height": 355
    },
    "id": "cRxCNvMO5Yzm",
    "outputId": "94f3f950-9aaf-4b03-ada1-92e3c3d4ae61"
   },
   "outputs": [
    {
     "name": "stdout",
     "output_type": "stream",
     "text": [
      "Visual results : \n"
     ]
    },
    {
     "data": {
      "image/png": "[encoded data removed]",
      "text/plain": [
       "<Figure size 720x432 with 10 Axes>"
      ]
     },
     "metadata": {
      "needs_background": "light"
     },
     "output_type": "display_data"
    }
   ],
   "source": [
    "print(\"Visual results : \")\n",
    "\n",
    "plt.figure(figsize=(10, 6))\n",
    "for idx in range(0,10):\n",
    "    plt.subplot(2, 5, idx+1)\n",
    "    rand_ind = np.random.randint(0,X_test.shape[0])\n",
    "    test_img = torch.unsqueeze(X_test[rand_ind,:,:,:],axis=1)\n",
    "    predicted_class = vector_to_class(mnist_model(test_img))\n",
    "    plt.imshow(test_img.squeeze(),cmap='gray')\n",
    "    plt.title(mnist_list[int(predicted_class)])"
   ]
  },
  {
   "cell_type": "markdown",
   "metadata": {
    "id": "M5D5BY20W1-m"
   },
   "source": [
    "## Model 2: create a CNN on CIFAR10\n",
    "\n",
    "We are now going to train the same network architecture on a more difficult dataset : CIFAR10\n",
    "\n",
    "First, we import the CIFAR10 data and carry out some pre-processing :"
   ]
  },
  {
   "cell_type": "code",
   "execution_count": 36,
   "metadata": {
    "colab": {
     "base_uri": "https://localhost:8080/"
    },
    "id": "k15abDeRW1-m",
    "outputId": "7fa2fb48-2189-4a94-f76c-3c7b433c19a3"
   },
   "outputs": [
    {
     "name": "stdout",
     "output_type": "stream",
     "text": [
      "Files already downloaded and verified\n",
      "Dataset CIFAR10\n",
      "    Number of datapoints: 50000\n",
      "    Root location: ./data\n",
      "    Split: Train\n",
      "    StandardTransform\n",
      "Transform: Compose(\n",
      "               ToTensor()\n",
      "           )\n",
      "Files already downloaded and verified\n"
     ]
    }
   ],
   "source": [
    "# convert input to Pytorch tensors\n",
    "input_transform=transforms.Compose( [transforms.ToTensor()])\n",
    "# extract mnist data\n",
    "cifar_trainset = datasets.CIFAR10(root='./data',train=True,download=True,transform=input_transform)\n",
    "print(cifar_trainset)\n",
    "\n",
    "#create data loader with smaller dataset size\n",
    "max_cifar_size = 2000\n",
    "cifar_trainset_reduced = torch.utils.data.random_split(cifar_trainset, [max_cifar_size, len(cifar_trainset)-max_cifar_size])[0] \n",
    "cifar_train_loader = torch.utils.data.DataLoader(cifar_trainset_reduced, batch_size=256, shuffle=True)\n",
    "\n",
    "# download test dataset\n",
    "cifar_testset = datasets.CIFAR10(root='./data',train=False,download=True,transform=input_transform)\n",
    "cifar_test_loader = torch.utils.data.DataLoader(cifar_testset, batch_size=256, shuffle=True)\n",
    "\n",
    "# extract the actual data and labels\n",
    "X_train = cifar_trainset.data[0:max_cifar_size]/255.0\n",
    "Y_train = cifar_trainset.targets[0:max_cifar_size]\n",
    "X_test = cifar_testset.data/255.0\n",
    "Y_test = cifar_testset.targets\n",
    "\n",
    "nb_channels = X_train.shape[-1]\n"
   ]
  },
  {
   "cell_type": "code",
   "execution_count": 37,
   "metadata": {
    "id": "5Al5b-S37T4A"
   },
   "outputs": [],
   "source": [
    "# the CIFAR10 categories\n",
    "cifar_10_list = [ 'airplane', 'automobile','bird','cat','deer','dog','frog','horse','ship','truck']\n",
    "\n",
    "#modify the number of input channels \n",
    "n_h_0 = nb_channels\n",
    "# add more epochs\n",
    "n_epochs = 30"
   ]
  },
  {
   "cell_type": "markdown",
   "metadata": {
    "id": "WpM3zdF_W1-x"
   },
   "source": [
    "### Display some of the images"
   ]
  },
  {
   "cell_type": "code",
   "execution_count": 38,
   "metadata": {
    "colab": {
     "base_uri": "https://localhost:8080/",
     "height": 338
    },
    "id": "PeFaoz2AW1-y",
    "outputId": "33dbb699-6277-436f-c950-5fe9770b2bb2"
   },
   "outputs": [
    {
     "data": {
      "image/png": "[encoded data removed]",
      "text/plain": [
       "<Figure size 720x432 with 10 Axes>"
      ]
     },
     "metadata": {
      "needs_background": "light"
     },
     "output_type": "display_data"
    }
   ],
   "source": [
    "plt.figure(figsize=(10, 6))\n",
    "for idx in range(0,10):\n",
    "    plt.subplot(2, 5, idx+1)\n",
    "    rand_ind = np.random.randint(0,X_test.shape[0])\n",
    "    plt.imshow(X_test[rand_ind,:,:,:])\n",
    "    plt.title(cifar_10_list[int(Y_test[rand_ind])])"
   ]
  },
  {
   "cell_type": "markdown",
   "metadata": {
    "id": "XrGI_L3OW1-3"
   },
   "source": [
    "## Define the architecture again, for CIFAR10\n",
    "\n",
    "In this case, we are going to add a layer because the data is more complex. Therefore, we use the following architecture :\n",
    "\n",
    "    - a Convolutional layer of 32 filters of shape (3,3), with stride (1,1) and padding='same'\n",
    "    - additive biases\n",
    "    - a ReLu activation function\n",
    "    \n",
    "    - a Convolutional layer of 32 filters of shape (3,3), with stride (1,1) and padding='same'\n",
    "    - additive biases\n",
    "    - a ReLu activation function\n",
    "    - a Max Pooling Layer of shape (2,2) and stride (2,2) (i.e. we reduce by two the size in each dimension)\n",
    "    \n",
    "    - a Convolutional layer of 32 filters of shape (3,3), with stride (1,1) and padding='same'\n",
    "    - additive biases\n",
    "    - a ReLu activation function\n",
    "    - a Max Pooling Layer of shape (2,2) and stride (2,2) (i.e. we reduce by two the size in each dimension)\n",
    "    \n",
    "    - We then Flatten the data (reduce them to a vector in order to be able to apply a Fully-Connected layer to it)\n",
    "    - Dense (fully connected) layer. Note, you will have to determine the input size, that is to say the number of elements after the last Max Pooling layer.\n",
    "    - ReLU activation function\n",
    "    - Dense (fully connected) layer"
   ]
  },
  {
   "cell_type": "code",
   "execution_count": 39,
   "metadata": {
    "id": "OEs-EnXLW1-4"
   },
   "outputs": [],
   "source": [
    "\n",
    "learning_rate = 0.01\n",
    "n_epochs = 50\n",
    "batch_size = 64\n",
    "\n",
    "# number of convolutional filters to use\n",
    "nb_filters = 32\n",
    "# convolution kernel size\n",
    "kernel_size = (3, 3)\n",
    "# size of pooling area for max pooling\n",
    "pool_size = (2, 2)\n",
    "\n",
    "\n",
    "# --- Size of the successive layers\n",
    "n_h_0 = nb_channels\n",
    "n_h_1 = nb_filters\n",
    "n_h_2 = nb_filters\n",
    "n_h_3 = nb_filters"
   ]
  },
  {
   "cell_type": "markdown",
   "metadata": {
    "id": "I0ACZkTFW1-7"
   },
   "source": [
    "Now, modify the previous code (you can copy/paste/modify the necessary parts) to define the model for CIFAR10."
   ]
  },
  {
   "cell_type": "code",
   "execution_count": 40,
   "metadata": {
    "id": "RmbX6oq0W1-7"
   },
   "outputs": [],
   "source": [
    "# BEGIN STUDENT CODE\n",
    "\n",
    "cifar_model = torch.nn.Sequential(torch.nn.Conv2d(n_h_0, n_h_1, kernel_size=kernel_size, stride=(1, 1), padding='same'),\n",
    "                                  torch.nn.ReLU(),\n",
    "                                  torch.nn.Conv2d(n_h_1, n_h_2, kernel_size=kernel_size, stride=(1, 1), padding='same'),\n",
    "                                  torch.nn.ReLU(),\n",
    "                                  torch.nn.MaxPool2d(kernel_size=pool_size,stride=(2, 2)),\n",
    "                                  torch.nn.Conv2d(n_h_2, n_h_3, kernel_size=kernel_size, stride=(1, 1), padding='same'),\n",
    "                                  torch.nn.ReLU(),\n",
    "                                  torch.nn.MaxPool2d(kernel_size=pool_size,stride=(2, 2)),\n",
    "                                  torch.nn.Flatten(),\n",
    "                                  torch.nn.Linear(8*8*n_h_3,8*8*n_h_3),\n",
    "                                  torch.nn.ReLU(),\n",
    "                                  torch.nn.Linear(8*8*n_h_3, 10))\n",
    "criterion = torch.nn.CrossEntropyLoss()\n",
    "optimizer = torch.optim.Adam(cifar_model.parameters(), lr=learning_rate)\n",
    "# END STUDENT CODE"
   ]
  },
  {
   "cell_type": "markdown",
   "metadata": {
    "id": "KUmQKIEe8_QU"
   },
   "source": [
    "Now, carry out training on the CIFAR10 dataset (use the previous code as an example)."
   ]
  },
  {
   "cell_type": "code",
   "execution_count": 41,
   "metadata": {
    "colab": {
     "base_uri": "https://localhost:8080/"
    },
    "id": "pyEwLnLR9gv0",
    "outputId": "6c7277d3-a18e-4a70-d354-dd78672ba998"
   },
   "outputs": [
    {
     "name": "stdout",
     "output_type": "stream",
     "text": [
      "Epoch:0 Train Loss:0.0112\n",
      "Accuracy:0.1202\n",
      "Epoch:1 Train Loss:0.0111\n",
      "Accuracy:0.1202\n",
      "Epoch:2 Train Loss:0.0110\n",
      "Accuracy:0.1106\n",
      "Epoch:3 Train Loss:0.0107\n",
      "Accuracy:0.1923\n",
      "Epoch:4 Train Loss:0.0097\n",
      "Accuracy:0.2404\n",
      "Epoch:5 Train Loss:0.0096\n",
      "Accuracy:0.2885\n",
      "Epoch:6 Train Loss:0.0096\n",
      "Accuracy:0.2644\n",
      "Epoch:7 Train Loss:0.0093\n",
      "Accuracy:0.2740\n",
      "Epoch:8 Train Loss:0.0091\n",
      "Accuracy:0.3365\n",
      "Epoch:9 Train Loss:0.0093\n",
      "Accuracy:0.2981\n",
      "Epoch:10 Train Loss:0.0093\n",
      "Accuracy:0.3173\n",
      "Epoch:11 Train Loss:0.0096\n",
      "Accuracy:0.2885\n",
      "Epoch:12 Train Loss:0.0088\n",
      "Accuracy:0.3413\n",
      "Epoch:13 Train Loss:0.0090\n",
      "Accuracy:0.3221\n",
      "Epoch:14 Train Loss:0.0088\n",
      "Accuracy:0.3077\n",
      "Epoch:15 Train Loss:0.0082\n",
      "Accuracy:0.4135\n",
      "Epoch:16 Train Loss:0.0070\n",
      "Accuracy:0.4567\n",
      "Epoch:17 Train Loss:0.0076\n",
      "Accuracy:0.4087\n",
      "Epoch:18 Train Loss:0.0070\n",
      "Accuracy:0.4423\n",
      "Epoch:19 Train Loss:0.0071\n",
      "Accuracy:0.4808\n",
      "Epoch:20 Train Loss:0.0060\n",
      "Accuracy:0.5385\n",
      "Epoch:21 Train Loss:0.0056\n",
      "Accuracy:0.5769\n",
      "Epoch:22 Train Loss:0.0051\n",
      "Accuracy:0.6202\n",
      "Epoch:23 Train Loss:0.0048\n",
      "Accuracy:0.6298\n",
      "Epoch:24 Train Loss:0.0043\n",
      "Accuracy:0.6731\n",
      "Epoch:25 Train Loss:0.0035\n",
      "Accuracy:0.7260\n",
      "Epoch:26 Train Loss:0.0028\n",
      "Accuracy:0.8029\n",
      "Epoch:27 Train Loss:0.0027\n",
      "Accuracy:0.8173\n",
      "Epoch:28 Train Loss:0.0017\n",
      "Accuracy:0.8750\n",
      "Epoch:29 Train Loss:0.0017\n",
      "Accuracy:0.8990\n",
      "Epoch:30 Train Loss:0.0013\n",
      "Accuracy:0.9231\n",
      "Epoch:31 Train Loss:0.0008\n",
      "Accuracy:0.9471\n",
      "Epoch:32 Train Loss:0.0006\n",
      "Accuracy:0.9663\n",
      "Epoch:33 Train Loss:0.0007\n",
      "Accuracy:0.9423\n",
      "Epoch:34 Train Loss:0.0012\n",
      "Accuracy:0.9135\n",
      "Epoch:35 Train Loss:0.0005\n",
      "Accuracy:0.9760\n",
      "Epoch:36 Train Loss:0.0002\n",
      "Accuracy:1.0000\n",
      "Epoch:37 Train Loss:0.0003\n",
      "Accuracy:0.9904\n",
      "Epoch:38 Train Loss:0.0002\n",
      "Accuracy:0.9904\n",
      "Epoch:39 Train Loss:0.0003\n",
      "Accuracy:0.9856\n",
      "Epoch:40 Train Loss:0.0001\n",
      "Accuracy:0.9904\n",
      "Epoch:41 Train Loss:0.0002\n",
      "Accuracy:0.9904\n",
      "Epoch:42 Train Loss:0.0010\n",
      "Accuracy:0.9615\n",
      "Epoch:43 Train Loss:0.0006\n",
      "Accuracy:0.9615\n",
      "Epoch:44 Train Loss:0.0003\n",
      "Accuracy:0.9712\n",
      "Epoch:45 Train Loss:0.0001\n",
      "Accuracy:1.0000\n",
      "Epoch:46 Train Loss:0.0001\n",
      "Accuracy:0.9952\n",
      "Epoch:47 Train Loss:0.0001\n",
      "Accuracy:1.0000\n",
      "Epoch:48 Train Loss:0.0001\n",
      "Accuracy:0.9952\n",
      "Epoch:49 Train Loss:0.0000\n",
      "Accuracy:0.9952\n"
     ]
    }
   ],
   "source": [
    "\n",
    "# BEGIN STUDENT CODE\n",
    "train_losses=[]\n",
    "valid_losses=[]\n",
    "\n",
    "for epoch in range(0,n_epochs):\n",
    "  train_loss=0.0\n",
    "\n",
    "  for batch_idx, (imgs, labels) in enumerate(cifar_train_loader):\n",
    "\n",
    "    # set the gradients back to 0\n",
    "    optimizer.zero_grad()\n",
    "    predict=cifar_model(imgs) # FILL IN STUDENT\n",
    "    # apply loss function\n",
    "    loss=criterion(predict,labels)\n",
    "    # backpropagation\n",
    "    loss.backward()\n",
    "    \n",
    "    optimizer.step()\n",
    "    train_loss=loss.item()\n",
    "\n",
    "  print('Epoch:{} Train Loss:{:.4f}'.format(epoch,train_loss/imgs.shape[0]))\n",
    "  print('Accuracy:{:.4f}'.format(cnn_accuracy(vector_to_class(predict),labels)))\n",
    "# END STUDENT CODE"
   ]
  },
  {
   "cell_type": "markdown",
   "metadata": {
    "id": "afxhSlTZW1_A"
   },
   "source": [
    " What do you think about the results (better or worse than MNIST) ? Why do you think this is ? How could you improve the results ?"
   ]
  },
  {
   "cell_type": "markdown",
   "metadata": {
    "id": "lF3FLJtUzhqO"
   },
   "source": [
    "The results are definitely worse than these of MNIST and that is due to the fact that images are more hard to learn as they include more details(features). One way to fight against this is to do data augmentation, this way we can let the neural network learn better and/or by getting more features."
   ]
  },
  {
   "cell_type": "markdown",
   "metadata": {
    "id": "sIvS5eHEW1_A"
   },
   "source": [
    "## Visualising the convolutional weights\n",
    "\n",
    "You can explore the network parameters easily with Pytroch. Indeed, your model ```cifar_model``` is simply a list of layers, thus you can access the first layer with :\n",
    "- ```cifar_model[0]```\n",
    "\n",
    "If you want to find out the contents of this layer, use :\n",
    "\n",
    "```dir(cifar_model[0])```\n",
    "\n",
    "In particular, the convolutional weights are contained in the ```weights``` sub-structure (a multi-dimensional array). Note that this weight's size is : \n",
    "\n",
    "- $[n_{filters}, y_{size}, x_{size},n_{channels}]$\n",
    "\n",
    "Now, display all (32) trained filters of the first convolutional layer, taking only the first channel of each filter :"
   ]
  },
  {
   "cell_type": "code",
   "execution_count": 42,
   "metadata": {
    "colab": {
     "base_uri": "https://localhost:8080/",
     "height": 374
    },
    "id": "BahI3aUN-3fG",
    "outputId": "eb1b91c2-2549-4ffb-e209-44adcc7af74a"
   },
   "outputs": [
    {
     "data": {
      "image/png": "[encoded data removed]",
      "text/plain": [
       "<Figure size 720x432 with 32 Axes>"
      ]
     },
     "metadata": {
      "needs_background": "light"
     },
     "output_type": "display_data"
    }
   ],
   "source": [
    "\n",
    "plt.figure(figsize=(10, 6))\n",
    "for num in range(0,32):\n",
    "    plt.subplot(8, 4, num+1)\n",
    "    # --- START CODE HERE\n",
    "    plt.imshow( (cifar_model[0].weight[num,:,:,0]).detach().numpy(),cmap='gray')\n",
    "    # --- END CODE HERE      "
   ]
  },
  {
   "cell_type": "markdown",
   "metadata": {
    "id": "zX6yNSiKBXDH"
   },
   "source": [
    "What do you think ? Pretty incomprehensible no ? Do not spend too long trying to interpret these filters, that way madness lies. Indeed, they say that you can find some researchers locked in their offices staring at convolutional filters, trying to find some semblance of meaning ...\n",
    "\n",
    "So, it seems that understanding a CNN by just looking at the filters is an exercise in futility. How can we do better ? Well, take a look at part 2 of the lab !"
   ]
  },
  {
   "cell_type": "markdown",
   "metadata": {
    "id": "CQZhcqR9Cree"
   },
   "source": [
    "# Evaluation\n",
    "\n",
    "To evaluate the work, you should rate the code for \n",
    "- 1) MNIST : Defining the first model : 3 points\n",
    "- 2) MNIST : Compiling and training the first model : 1 point\n",
    "- 3) CIFAR10 : Defining the second model : 3 points\n",
    "- 4) CIFAR10 : Compiling and training the second model : 1 point\n",
    "- 5) Calculating ```predicted_class``` : 1 point\n",
    "- 6) Correctly visualising the weights : 1 point\n",
    "\n",
    "\n",
    "Total over 10 points. For the questions with three points :\n",
    "- 1 point if partially correct\n",
    "- 2 points if correct code but does not give the expected results or if the code does not compile. Be careful, sometimes the training might get stuck quickly by bad luck : restart the code a few times to make sure it is indeed a bug.\n",
    "- 3 points for correct code and correct execution"
   ]
  },
  {
   "cell_type": "code",
   "execution_count": 42,
   "metadata": {
    "id": "QfM4IQacCr-v"
   },
   "outputs": [],
   "source": []
  }
 ],
 "metadata": {
  "accelerator": "GPU",
  "colab": {
   "collapsed_sections": [],
   "provenance": []
  },
  "kernelspec": {
   "display_name": "Python 3",
   "language": "python",
   "name": "python3"
  },
  "language_info": {
   "codemirror_mode": {
    "name": "ipython",
    "version": 3
   },
   "file_extension": ".py",
   "mimetype": "text/x-python",
   "name": "python",
   "nbconvert_exporter": "python",
   "pygments_lexer": "ipython3",
   "version": "3.7.4"
  }
 },
 "nbformat": 4,
 "nbformat_minor": 1
}
