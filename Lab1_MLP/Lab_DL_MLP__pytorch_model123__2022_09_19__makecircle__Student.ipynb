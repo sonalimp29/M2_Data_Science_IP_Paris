{
 "cells": [
  {
   "cell_type": "markdown",
   "metadata": {
    "id": "9KFU-_ZrsZFR"
   },
   "source": [
    "# Lab Deep Learning / Multi-Layer Perceptron for binary-classification / in pytorch\n",
    "\n",
    "**Author: geoffroy.peeters@telecom-paris.fr**\n",
    "\n",
    "**Version**: 2022/09/19\n",
    "\n",
    "For any remark or suggestion, please feel free to contact me."
   ]
  },
  {
   "cell_type": "markdown",
   "metadata": {
    "id": "4-0LCM7sseew"
   },
   "source": [
    "## Objective:\n",
    "\n",
    "The objective of this lab is to develop a two hidden layers MLP to perform **binary classification**.\n",
    "\n",
    "We will use a MLP with 2 hidden layer with $n_{h1}=20$ and $n_{h2}=10$ hidden units and ```relu``` activation functions.\n",
    "You will perform 10.000 iterations (epochs) of SGD to find the parameters.\n",
    "\n",
    "Note: for this lab, we do not separate the dataset into a train, validation and test part."
   ]
  },
  {
   "cell_type": "markdown",
   "metadata": {
    "id": "rhcaeREyshiA"
   },
   "source": [
    "### Data normalization\n",
    "\n",
    "You should normalize the data to zero mean and unit standard deviation"
   ]
  },
  {
   "cell_type": "markdown",
   "metadata": {
    "id": "W889TJY0sjrw"
   },
   "source": [
    "### Model\n",
    "\n",
    "There are various ways to write NN model in pytorch. \n",
    "\n",
    "In this lab, you will write three different implementations:\n",
    "- **Model A**: manually defining the parameters (W1,b1,W2,b2,W3,b3), writing the forward equations, writting the loss equation, calling the .backward() and manually updating the weights using W1.grad. You will write the loop to perform 1000 epochs.\n",
    "- **Model B**: using the Sequential class of pytorch\n",
    "- **Model C**: a custom torch.nn.Module class for this.\n",
    "\n",
    "For Model B and C, you will use the ready made loss and optimization from the nn and optim packages. You can use the same code to optimize the parameters of Model B and C."
   ]
  },
  {
   "cell_type": "markdown",
   "metadata": {
    "id": "_Qc8jENGsmR5"
   },
   "source": [
    "### Loss\n",
    "\n",
    "Since we are dealing with a binary classification problem, we will use a Binary Cross Entropy loss (use ```torch.nn.BCELoss``` for Model B and C)."
   ]
  },
  {
   "cell_type": "markdown",
   "metadata": {
    "id": "PbkGTDaRso25"
   },
   "source": [
    "### Parameters update/ Optimization\n",
    "\n",
    "For updating the parameters, we will use as optimizer a simple SGD algorithm (use ```torch.optim.SGD``` for Model B and C) with a learning rate of 0.1.\n",
    "\n",
    "Don't forget that an optimizer is applied to a set of parameters (```my_model.parameters()``` gives the parameters of the network for Model B and C).\n",
    "Once the gradients have been computed (after the backpropagation has been performed), you can perform one step of optimization (using ```optimizer.step()``` for Model B and C)."
   ]
  },
  {
   "cell_type": "markdown",
   "metadata": {
    "id": "6qzL47Ntss3p"
   },
   "source": [
    "### Backward propagation\n",
    "\n",
    "Backpropagation is automatically performed in pytorch using the ```autograd``` package. \n",
    "First, reset the gradients of all parameters (using ```optimizer.zero_grad()``` for Model B and C), then perform the backpropagation ```loss.backward()```. "
   ]
  },
  {
   "cell_type": "markdown",
   "metadata": {
    "id": "k4fnzJJDo60Y"
   },
   "source": [
    "### Your task:\n",
    "\n",
    "You need to add the missing parts in the code (parts between ```# --- START CODE HERE``` and ```# --- END CODE HERE```)\n",
    "\n",
    "### Documentation:\n",
    "- NN: https://pytorch.org/docs/stable/nn.html\n",
    "- Autograd: https://pytorch.org/docs/stable/autograd.html\n",
    "- Optim: https://pytorch.org/docs/stable/optim.html\n"
   ]
  },
  {
   "cell_type": "markdown",
   "metadata": {
    "id": "tuvU8y2Lo60Z"
   },
   "source": [
    "## Load the python packages"
   ]
  },
  {
   "cell_type": "code",
   "execution_count": 13,
   "metadata": {
    "id": "I1VTuwVio60a"
   },
   "outputs": [],
   "source": [
    "import torch\n",
    "import torch.nn as nn\n",
    "import torch.nn.functional as F\n",
    "import torch.optim as optim\n",
    "from torch.autograd import Variable\n",
    "\n",
    "import numpy as np\n",
    "import matplotlib.pyplot as plt\n",
    "\n",
    "student = True"
   ]
  },
  {
   "cell_type": "code",
   "execution_count": 14,
   "metadata": {
    "colab": {
     "base_uri": "https://localhost:8080/"
    },
    "id": "Zof__thjo60d",
    "outputId": "b47eec16-8744-4bbf-a151-9adc56d23c96"
   },
   "outputs": [
    {
     "name": "stdout",
     "output_type": "stream",
     "text": [
      "1.12.1+cu113\n"
     ]
    }
   ],
   "source": [
    "print(torch.__version__)"
   ]
  },
  {
   "cell_type": "markdown",
   "metadata": {
    "id": "Bsb-phrJo60g"
   },
   "source": [
    "## Dataset\n",
    "\n",
    "We take the usual circle dataset from sklearn."
   ]
  },
  {
   "cell_type": "code",
   "execution_count": 15,
   "metadata": {
    "id": "Otam7ukPo60g"
   },
   "outputs": [],
   "source": [
    "from sklearn import datasets\n",
    "X_np, y_np = datasets.make_circles(n_samples=1000, noise=0.2, factor=0.5)"
   ]
  },
  {
   "cell_type": "markdown",
   "metadata": {
    "id": "-5idAV4Co60i"
   },
   "source": [
    "We convert the ```numpy tensors``` to ```torch tensors```. \n",
    "The difference being that the latters allows to do automatic gradient differentiation (back-propagation)."
   ]
  },
  {
   "cell_type": "code",
   "execution_count": 16,
   "metadata": {
    "id": "rPxnzVSDo60j"
   },
   "outputs": [],
   "source": [
    "X = torch.from_numpy(X_np).float()\n",
    "y = torch.from_numpy(y_np).float()\n",
    "y = y.view(len(y), 1)"
   ]
  },
  {
   "cell_type": "code",
   "execution_count": 17,
   "metadata": {
    "colab": {
     "base_uri": "https://localhost:8080/"
    },
    "id": "YHgd8JYPo60l",
    "outputId": "8ecea144-b4c6-4a42-f87f-6ef35e5d04de"
   },
   "outputs": [
    {
     "name": "stdout",
     "output_type": "stream",
     "text": [
      "torch.Size([1000, 2])\n",
      "torch.Size([1000, 1])\n",
      "tensor([0.0056, 0.0017])\n",
      "tensor([0.5869, 0.5969])\n"
     ]
    }
   ],
   "source": [
    "print(X.size())\n",
    "print(y.size())\n",
    "print(X.mean(dim=0))\n",
    "print(X.std(dim=0))"
   ]
  },
  {
   "cell_type": "markdown",
   "metadata": {
    "id": "Unp-3kjjo60n"
   },
   "source": [
    "## Normalization"
   ]
  },
  {
   "cell_type": "code",
   "execution_count": 18,
   "metadata": {
    "colab": {
     "base_uri": "https://localhost:8080/"
    },
    "id": "6rIwFaauo60n",
    "outputId": "a2e9b78a-700c-48d8-8397-49ac2025b543"
   },
   "outputs": [
    {
     "name": "stdout",
     "output_type": "stream",
     "text": [
      "tensor([-7.6294e-09, -7.1526e-10])\n",
      "tensor([1., 1.])\n"
     ]
    }
   ],
   "source": [
    "X -= X.mean(dim=0)\n",
    "X /= X.std(dim=0)\n",
    "print(X.mean(dim=0))\n",
    "print(X.std(dim=0))"
   ]
  },
  {
   "cell_type": "markdown",
   "metadata": {
    "id": "Rc3VgVWOo60p"
   },
   "source": [
    "## Definition of the hyper-parameters"
   ]
  },
  {
   "cell_type": "code",
   "execution_count": 19,
   "metadata": {
    "id": "OrBQMqCJo60r"
   },
   "outputs": [],
   "source": [
    "n_in = X.shape[1]\n",
    "n_h1 = 20\n",
    "n_h2 = 10\n",
    "n_out = 1\n",
    "\n",
    "nb_epoch = 10000\n",
    "alpha = 0.1"
   ]
  },
  {
   "cell_type": "markdown",
   "metadata": {
    "id": "CIzjntgZo60t"
   },
   "source": [
    "## Model 1 (writing the network equations)\n",
    "\n",
    "\n"
   ]
  },
  {
   "cell_type": "markdown",
   "metadata": {
    "id": "4pllj-HFth04"
   },
   "source": [
    "### Parameter initialization\n",
    "\n",
    "**Using torch.Tensors**.\n",
    "You will define the variables and write the equations of the network yourself (as you would do in numpy).\n",
    "However you will use ```torch.Tensors``` instead of ```numpy.Array```. \n",
    "\n",
    "***Why ?*** because torch tensors will allows you to automatically get the gradient. You will use ```loss.backward()``` to launch the backpropagation from ```loss```. Then, for all tensors you've created and for which you declared ```requires_grad=True```, you will get the gradient of ```loss```with respect to this variable in the field ```.grad```. \n",
    "\n",
    "Example: ```W1 = torch.Tensor(..., requires_grad=True)``` ... ```loss.backward``` will have the gradient $\\frac{d Loss}{d W1}$in ```W1.grad```.\n",
    "\n",
    "**Rendom initialization**. Don't forget that the weight $W_1, W_2, \\cdots$ matrices **should be initialized randomly with small values**; while the bias vectors $b_1, b_2, \\cdots$can be initialized to zero."
   ]
  },
  {
   "cell_type": "code",
   "execution_count": 20,
   "metadata": {
    "id": "fGEMW1P1tllj"
   },
   "outputs": [],
   "source": [
    "# --- We first initialize the variables of the network (W1, b1, ...)\n",
    "if student:\n",
    "    # --- START CODE HERE (01)\n",
    "    W1 = torch.randn(n_in,n_h1)*0.01\n",
    "    W1.requires_grad = True\n",
    "    b1 = torch.zeros(n_h1,requires_grad=True)\n",
    "    \n",
    "    W2 = torch.rand(n_h1,n_h2)*0.01\n",
    "    W2.requires_grad = True\n",
    "    b2 = torch.zeros(n_h2,requires_grad=True)\n",
    "\n",
    "    W3 = torch.rand(n_h2,n_out)*0.01\n",
    "    W3.requires_grad = True\n",
    "    b3 = torch.zeros(n_out,requires_grad=True)\n",
    "    # --- END CODE HERE"
   ]
  },
  {
   "cell_type": "markdown",
   "metadata": {
    "id": "GU472VdktqoP"
   },
   "source": [
    "### Define the model\n",
    "\n",
    "We write a function to perform the forward pass (using pytorch operators, not numpy operators) taking X as input and returing hat_y as output."
   ]
  },
  {
   "cell_type": "code",
   "execution_count": 21,
   "metadata": {
    "id": "1BWc4OoZts_l"
   },
   "outputs": [],
   "source": [
    "def model(X):\n",
    "    if student:\n",
    "        # --- START CODE HERE (02)\n",
    "        A0 = X\n",
    "        Z1 = A0.mm(W1)+b1\n",
    "        A1 = Z1.clamp(min=0)\n",
    "        Z2 = A1.mm(W2)+b2\n",
    "        A2 = Z2.clamp(min=0)\n",
    "        Z3 = A2.mm(W3)+b3\n",
    "        A3 = torch.sigmoid(Z3)\n",
    "        hat_y = A3\n",
    "        # --- END CODE HERE\n",
    "    return hat_y"
   ]
  },
  {
   "cell_type": "markdown",
   "metadata": {
    "id": "-t--05ydty4g"
   },
   "source": [
    "### Main training loop\n",
    "\n",
    "We iterate over epochs (we do not perform split into mini-batch here)\n",
    "For each iteration, we\n",
    "- a) perform the forward pass, \n",
    "- b) compute the loss/cost, \n",
    "- c) compute the backward pass to get the gradients of the cost w.r.t. the parameters W1, b1, ...\n",
    "- d) perform the update of the parameters W1, b1, ...\n",
    "\n",
    "***Important: pytorch restriction***\n",
    "When you update the parameters (W1, b1, ...) but subtracting a small part of the gradient, you should that ``inplace`` (W1 -= ??? and not W1 = W1 - ???). Otherwise pytorch will overide W1 by its value (it will eras its .grad filed).\n"
   ]
  },
  {
   "cell_type": "code",
   "execution_count": 22,
   "metadata": {
    "colab": {
     "base_uri": "https://localhost:8080/"
    },
    "id": "HB65rqW4o60u",
    "outputId": "c0e20588-5195-4c5f-ea34-ed5fedff16d3"
   },
   "outputs": [
    {
     "name": "stdout",
     "output_type": "stream",
     "text": [
      "epoch 0, loss 0.6931502223014832\n",
      "epoch 500, loss 0.6931481957435608\n",
      "epoch 1000, loss 0.6931465268135071\n",
      "epoch 1500, loss 0.6931448578834534\n",
      "epoch 2000, loss 0.6931421756744385\n",
      "epoch 2500, loss 0.6931375861167908\n",
      "epoch 3000, loss 0.6931278705596924\n",
      "epoch 3500, loss 0.6931036114692688\n",
      "epoch 4000, loss 0.6930217742919922\n",
      "epoch 4500, loss 0.6925241947174072\n",
      "epoch 5000, loss 0.6721439957618713\n",
      "epoch 5500, loss 0.2913813889026642\n",
      "epoch 6000, loss 0.2683485448360443\n",
      "epoch 6500, loss 0.2644531726837158\n",
      "epoch 7000, loss 0.26227471232414246\n",
      "epoch 7500, loss 0.2611786723136902\n",
      "epoch 8000, loss 0.25964564085006714\n",
      "epoch 8500, loss 0.259081095457077\n",
      "epoch 9000, loss 0.25875261425971985\n",
      "epoch 9500, loss 0.25850823521614075\n"
     ]
    }
   ],
   "source": [
    "for num_epoch in range(0, nb_epoch):\n",
    "\n",
    "    # --- a) Forward pass: X (n_in, m), hat_y (n_out, m)\n",
    "    hat_y = model(X)\n",
    "\n",
    "    # -- We clip hat_y in order to avoid log(0) in the loss\n",
    "    eps = 1e-10\n",
    "    hat_y = torch.clamp(hat_y, eps, 1-eps)\n",
    "    \n",
    "    # --- b) Computing the loss/cost\n",
    "    if student:\n",
    "        # --- START CODE HERE (03)\n",
    "        loss = -(y*torch.log(hat_y) + (1-y)*torch.log(1-hat_y))\n",
    "        cost = torch.mean(loss)\n",
    "        # --- END CODE HERE\n",
    "    \n",
    "    if num_epoch % 500 == 0:\n",
    "        print('epoch {}, loss {}'.format(num_epoch, cost))\n",
    "\n",
    "    # --- c) Backward pass\n",
    "    cost.backward()\n",
    "    \n",
    "    # --- \"with torch.no_grad()\" temporarily set all the requires_grad flag to false\n",
    "    with torch.no_grad():\n",
    "        # --- d) perform the update of the parameters W1, b1, ...\n",
    "        if student:\n",
    "            # --- the gradients dLoss/dW1 is stored in W1.grad, dLoss/db1 is stored in b1.grad, ...\n",
    "            # --- START CODE HERE (04)\n",
    "            W1 -= alpha*W1.grad\n",
    "            b1 -= alpha*b1.grad\n",
    "            W2 -= alpha*W2.grad\n",
    "            b2 -= alpha*b2.grad\n",
    "            W3 -= alpha*W3.grad\n",
    "            b3 -= alpha*b3.grad\n",
    "            # --- END CODE HERE\n",
    "\n",
    "    # --- We need to set to zero all gradients (otherwise they are cumulated)\n",
    "    W1.grad.zero_()\n",
    "    b1.grad.zero_()\n",
    "    W2.grad.zero_()\n",
    "    b2.grad.zero_()\n",
    "    W3.grad.zero_()\n",
    "    b3.grad.zero_()"
   ]
  },
  {
   "cell_type": "markdown",
   "metadata": {
    "id": "lxgA4DXVo60w"
   },
   "source": [
    "## Model 2 (using nn.sequential)\n",
    "\n",
    "Here, you will use the package ```torch.nn``` which comes with a predefined set of layers. The syntax is close to the one of ```keras```(```Sequential```), but differs in the fact that layers are splitted into the matrix multiplication followed by a non-linear activations (```keras```merge both using the ```Dense```layers).\n",
    "\n",
    "The model created will have all its parameters accessible as a dictionary and can be accessed using ```model.parameters()```. It is therefore a convenient way to write simple sequential networks."
   ]
  },
  {
   "cell_type": "code",
   "execution_count": 23,
   "metadata": {
    "id": "elGQpQzjo60x"
   },
   "outputs": [],
   "source": [
    "if student:\n",
    "    # --- START CODE HERE (05)\n",
    "    my_model = nn.Sequential(\n",
    "        nn.Linear(n_in, n_h1),\n",
    "        nn.ReLU(),\n",
    "        nn.Linear(n_h1, n_h2),\n",
    "        nn.ReLU(),\n",
    "        nn.Linear(n_h2, n_out),\n",
    "        nn.Sigmoid())\n",
    "    # --- END CODE HERE\n"
   ]
  },
  {
   "cell_type": "markdown",
   "metadata": {
    "id": "ts4aVeIPo601"
   },
   "source": [
    "### Criterion and Optimization\n",
    "\n",
    "The code of Model 1 is self-contained, i.e. it already contains all necessary instruction to perform forward, loss, backward and parameter updates.\n",
    "\n",
    "When using ```nn.sequential``` (model 2) or a class definition of the network (model 3), we still need to define \n",
    "- what we will minimize (the loss to be minimized, i.e. Binary-Cross-Entropy). We can of course write the equation of it by hand but pytorch comes with a very large number of pre-build loss functions (within ```torch.nn```)\n",
    "- how we will minimize the loss, i.e. what parameter update algorithms we will use (SGD, momentum). We can of course write the equation of it by hand but pytorch comes with a very large number of pre-build loss functions (within ```torch.nn```)"
   ]
  },
  {
   "cell_type": "code",
   "execution_count": 24,
   "metadata": {
    "id": "xs63V-Wgo602"
   },
   "outputs": [],
   "source": [
    "if student:\n",
    "    # --- START CODE HERE (08)\n",
    "    criterion = torch.nn.BCELoss(weight=None, reduction='mean')\n",
    "    optimizer = optim.SGD(params=my_model.parameters(), lr=alpha, momentum=0.9)\n",
    "    # --- END CODE HERE\n"
   ]
  },
  {
   "cell_type": "markdown",
   "metadata": {
    "id": "89ysZn6rw17u"
   },
   "source": [
    "### Main training loop\n",
    "\n",
    "Having defined the network, the citerion to be minimized and the optimizer, we then perform a loop over epochs (iterations); at each step we\n",
    "- compute the forward pass by passing the data to the model: ```haty = model(x)```\n",
    "- compute the the loss (the criterion)\n",
    "- putting at zero the gradients of all the parameters of the network (this is important since, by default, pytorch accumulate the gradients over time)\n",
    "- computing the backpropagation (using as before ```.backward()```)\n",
    "- performing one step of optimization (using ```.step()```)"
   ]
  },
  {
   "cell_type": "code",
   "execution_count": 25,
   "metadata": {
    "colab": {
     "base_uri": "https://localhost:8080/",
     "height": 612
    },
    "id": "JROT567kw17u",
    "outputId": "109a996a-39a4-4713-d7ec-f3c0d5cac133"
   },
   "outputs": [
    {
     "name": "stdout",
     "output_type": "stream",
     "text": [
      "epoch 0, loss 0.696997880935669\n",
      "epoch 500, loss 0.2555437684059143\n",
      "epoch 1000, loss 0.2537468373775482\n",
      "epoch 1500, loss 0.2530544400215149\n",
      "epoch 2000, loss 0.2525137960910797\n",
      "epoch 2500, loss 0.25196942687034607\n",
      "epoch 3000, loss 0.251463919878006\n",
      "epoch 3500, loss 0.25091639161109924\n",
      "epoch 4000, loss 0.25041666626930237\n",
      "epoch 4500, loss 0.24938347935676575\n",
      "epoch 5000, loss 0.24814477562904358\n",
      "epoch 5500, loss 0.24651242792606354\n",
      "epoch 6000, loss 0.246045783162117\n",
      "epoch 6500, loss 0.2526054084300995\n",
      "epoch 7000, loss 0.24376370012760162\n",
      "epoch 7500, loss 0.24988310039043427\n",
      "epoch 8000, loss 0.2397003322839737\n",
      "epoch 8500, loss 0.24909146130084991\n",
      "epoch 9000, loss 0.2397433966398239\n",
      "epoch 9500, loss 0.24773986637592316\n"
     ]
    },
    {
     "data": {
      "image/png": "[encoded data removed]",
      "text/plain": [
       "<Figure size 432x288 with 1 Axes>"
      ]
     },
     "metadata": {
      "needs_background": "light"
     },
     "output_type": "display_data"
    }
   ],
   "source": [
    "loss_l = []\n",
    "for num_epoch in range(nb_epoch):\n",
    "  \n",
    "    if student:\n",
    "        # --- START CODE HERE (09)\n",
    "        hat_y = my_model(X)# Forward pass: Compute predicted y by passing  x to the model          \n",
    "        loss = criterion(hat_y, y) # Compute loss \n",
    "        # Zero gradients, perform a backward pass, and update the weights. \n",
    "        optimizer.zero_grad()# re-init the gradients (otherwise they are cumulated)\n",
    "        loss.backward()  # perform back-propagation\n",
    "        optimizer.step() # update the weights\n",
    "        # --- END CODE HERE\n",
    "        \n",
    "    loss_l.append(loss.item())\n",
    "\n",
    "    if num_epoch % 500 == 0:\n",
    "        print('epoch {}, loss {}'.format(num_epoch, loss.item()))\n",
    "        \n",
    "# ----------------\n",
    "plt.plot(loss_l);"
   ]
  },
  {
   "cell_type": "markdown",
   "metadata": {
    "id": "4twpnbEAo60z"
   },
   "source": [
    "## Model 3 (using a class definition)\n",
    "\n",
    "Here, you will write the network using the recommended pytroch way; i.e. by defining a class.\n",
    "This class inherit from the main class ```torch.nn.Module```.\n",
    "You only need to write the ```__init__``` method and the ```forward``` method.\n",
    "\n",
    "In object programming, the ```__init__``` method defines the attributes of your class. Since the attributes of your  network are the parameters to be trained (weights and biases), you should declare in the ```__init``` all the layers that involve parameters to be trained (mostly the ```Linear```layers which perform the matrix multiplication).\n",
    "\n",
    "The ```forward``` method contains the code of the forward pass itself. It can of course call attributes defined in the ```__init___``` method. It is the method used when calling ```model(x)```.\n",
    "\n",
    "As before, the model created will have all its parameters accessible as a dictionary and can be accessed using ```model.parameters()```. \n",
    "\n",
    "Classes are convenient way to write more complex network than what you can do with ```nn.sequential```. Note that you can actually include a ```nn.sequential``` in your class."
   ]
  },
  {
   "cell_type": "code",
   "execution_count": 26,
   "metadata": {
    "id": "ZNsNkq9Do60z"
   },
   "outputs": [],
   "source": [
    "class Net(torch.nn.Module):\n",
    "    def __init__(self, n_in, n_h1, n_h2, n_out):\n",
    "        super(Net, self).__init__()\n",
    "        \n",
    "        if student:\n",
    "            # --- START CODE HERE (06)\n",
    "            self.fc1 = torch.nn.Linear(n_in, n_h1) # hidden layer 1\n",
    "            self.fc2 = torch.nn.Linear(n_h1, n_h2) # hidden layer 2\n",
    "            self.fc3 = torch.nn.Linear(n_h2, n_out) # output layer\n",
    "            # --- END CODE HERE\n",
    "        \n",
    "    def forward(self, X):\n",
    "        \n",
    "        if student:\n",
    "            # --- START CODE HERE (07)\n",
    "            A0 = X\n",
    "            A1 = self.fc1(A0).clamp(min=0)  # activation function for hidden layer 1\n",
    "            A2 = self.fc2(A1).clamp(min=0)   # activation function for hidden layer 2\n",
    "            A3 = torch.sigmoid(self.fc3(A2))   # activation function for output layer\n",
    "            # --- END CODE HERE\n",
    "\n",
    "        return A3\n",
    "\n",
    "# --- START CODE HERE\n",
    "my_model = Net(n_in, n_h1, n_h2, n_out)\n",
    "# --- END CODE HERE"
   ]
  },
  {
   "cell_type": "markdown",
   "metadata": {
    "id": "VfOoKPMtwfLI"
   },
   "source": [
    "### Criterion and Optimization (same as for model 2 -> copy and paste your code)"
   ]
  },
  {
   "cell_type": "code",
   "execution_count": 27,
   "metadata": {
    "id": "e-DC96kOwfLJ"
   },
   "outputs": [],
   "source": [
    "if student:\n",
    "    # --- START CODE HERE (08)\n",
    "    criterion = nn.BCELoss(weight=None, reduction='mean')\n",
    "    optimizer = optim.SGD(params=my_model.parameters(), lr=alpha, momentum=0.9)\n",
    "    # --- END CODE HERE\n"
   ]
  },
  {
   "cell_type": "markdown",
   "metadata": {
    "id": "XamuBM_ho604"
   },
   "source": [
    "### Main training loop (same as for model 2 -> copy and paste your code)\n"
   ]
  },
  {
   "cell_type": "code",
   "execution_count": 28,
   "metadata": {
    "colab": {
     "base_uri": "https://localhost:8080/",
     "height": 612
    },
    "id": "rKfrD8V3o605",
    "outputId": "4ec0f400-23a6-4f4e-9522-d79600f45860"
   },
   "outputs": [
    {
     "name": "stdout",
     "output_type": "stream",
     "text": [
      "epoch 0, loss 0.7062280774116516\n",
      "epoch 500, loss 0.25745195150375366\n",
      "epoch 1000, loss 0.2567098140716553\n",
      "epoch 1500, loss 0.25573086738586426\n",
      "epoch 2000, loss 0.255244642496109\n",
      "epoch 2500, loss 0.25485771894454956\n",
      "epoch 3000, loss 0.25406140089035034\n",
      "epoch 3500, loss 0.25367721915245056\n",
      "epoch 4000, loss 0.25336992740631104\n",
      "epoch 4500, loss 0.2531203627586365\n",
      "epoch 5000, loss 0.2529588043689728\n",
      "epoch 5500, loss 0.25198909640312195\n",
      "epoch 6000, loss 0.2515527009963989\n",
      "epoch 6500, loss 0.25113821029663086\n",
      "epoch 7000, loss 0.25070586800575256\n",
      "epoch 7500, loss 0.250245600938797\n",
      "epoch 8000, loss 0.2496289610862732\n",
      "epoch 8500, loss 0.24879811704158783\n",
      "epoch 9000, loss 0.24809642136096954\n",
      "epoch 9500, loss 0.24734310805797577\n"
     ]
    },
    {
     "data": {
      "image/png": "[encoded data removed]",
      "text/plain": [
       "<Figure size 432x288 with 1 Axes>"
      ]
     },
     "metadata": {
      "needs_background": "light"
     },
     "output_type": "display_data"
    }
   ],
   "source": [
    "loss_l = []\n",
    "for num_epoch in range(nb_epoch):\n",
    "  \n",
    "    if student:\n",
    "        # --- START CODE HERE (09)\n",
    "        hat_y = my_model(X)  # Forward pass: Compute predicted y by passing  x to the model          \n",
    "        loss = criterion(hat_y, y) # Compute loss \n",
    "        # Zero gradients, perform a backward pass, and update the weights. \n",
    "        optimizer.zero_grad() # re-init the gradients (otherwise they are cumulated)\n",
    "        loss.backward() # perform back-propagation\n",
    "        optimizer.step()  # update the weights\n",
    "        # --- END CODE HERE\n",
    "        \n",
    "    loss_l.append(loss.item())\n",
    "\n",
    "    if num_epoch % 500 == 0:\n",
    "        print('epoch {}, loss {}'.format(num_epoch, loss.item()))\n",
    "        \n",
    "# ----------------\n",
    "plt.plot(loss_l); "
   ]
  },
  {
   "cell_type": "markdown",
   "metadata": {
    "id": "SeadOclLjGbn"
   },
   "source": [
    "# Evaluation\n",
    "\n",
    "To evaluate the work, you should rate the code for \n",
    "- 1) Model 1: Initialization of W1, b1, ... (01)\n",
    "- 2) Model 1: Forward-pass (02)\n",
    "- 3) Model 1: Loss and Cost computation  (03)\n",
    "- 4) Model 1: Manual update of the parameters (04)\n",
    "- 5) Model 2: using nn.sequential (05)\n",
    "- 6) Model 3: using class definition: __init__ method (06)\n",
    "- 7) Model 3: using class definition: forward method (07)\n",
    "- 8) Model 2 and 3: Loss (criterion) and parameter update algorithms (optimizer) (08)\n",
    "- 9) Model 2 and 3: code inside the loop (09)"
   ]
  }
 ],
 "metadata": {
  "colab": {
   "collapsed_sections": [],
   "provenance": []
  },
  "kernelspec": {
   "display_name": "Python 3",
   "language": "python",
   "name": "python3"
  },
  "language_info": {
   "codemirror_mode": {
    "name": "ipython",
    "version": 3
   },
   "file_extension": ".py",
   "mimetype": "text/x-python",
   "name": "python",
   "nbconvert_exporter": "python",
   "pygments_lexer": "ipython3",
   "version": "3.7.4"
  },
  "toc": {
   "base_numbering": 1,
   "nav_menu": {},
   "number_sections": true,
   "sideBar": true,
   "skip_h1_title": false,
   "title_cell": "Table of Contents",
   "title_sidebar": "Contents",
   "toc_cell": false,
   "toc_position": {},
   "toc_section_display": true,
   "toc_window_display": true
  }
 },
 "nbformat": 4,
 "nbformat_minor": 1
}
